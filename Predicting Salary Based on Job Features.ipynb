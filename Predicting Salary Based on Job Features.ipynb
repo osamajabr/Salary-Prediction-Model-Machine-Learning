{
 "cells": [
  {
   "cell_type": "markdown",
   "id": "d326bf95",
   "metadata": {},
   "source": [
    "# Predicting Salary Based on Job Features "
   ]
  },
  {
   "cell_type": "code",
   "execution_count": 1,
   "id": "f6cc8265",
   "metadata": {},
   "outputs": [],
   "source": [
    "import pandas as pd\n",
    "import numpy as np\n",
    "from sklearn.ensemble import RandomForestRegressor\n",
    "from sklearn.preprocessing import StandardScaler, OneHotEncoder\n",
    "from sklearn.model_selection import KFold, train_test_split\n",
    "from category_encoders import TargetEncoder\n",
    "from sklearn.metrics import mean_squared_error"
   ]
  },
  {
   "cell_type": "code",
   "execution_count": 2,
   "id": "ae9de559",
   "metadata": {},
   "outputs": [],
   "source": [
    "skills_job_dim = pd.read_csv('skills_job_dim.csv')\n",
    "skills_dim = pd.read_csv('skills_dim.csv')\n",
    "job_postings_fact = pd.read_csv('job_postings_fact.csv')\n",
    "company_dim = pd.read_csv('company_dim.csv')\n",
    "\n",
    "encoder_location = TargetEncoder(smoothing=1.0)\n",
    "encoder_skills = TargetEncoder(smoothing=1.0)\n",
    "\n",
    "job_postings_fact['job_location_encoded'] = encoder_location.fit_transform(job_postings_fact[['job_location']], job_postings_fact['salary_year_avg'])\n",
    "df = pd.merge(job_postings_fact, skills_job_dim, on='job_id', how='left')\n",
    "df = pd.merge(df, skills_dim, on='skill_id', how='left')\n",
    "df['skills_encoded'] = encoder_skills.fit_transform(df[['skills']], df['salary_year_avg'])"
   ]
  },
  {
   "cell_type": "code",
   "execution_count": 3,
   "id": "449f8ed2",
   "metadata": {},
   "outputs": [
    {
     "data": {
      "text/plain": [
       "<Axes: >"
      ]
     },
     "execution_count": 3,
     "metadata": {},
     "output_type": "execute_result"
    },
    {
     "data": {
      "image/png": "[encoded data removed]",
      "text/plain": [
       "<Figure size 640x480 with 1 Axes>"
      ]
     },
     "metadata": {},
     "output_type": "display_data"
    }
   ],
   "source": [
    "df['salary_year_avg'].hist(bins=50)"
   ]
  },
  {
   "cell_type": "code",
   "execution_count": 4,
   "id": "248b45c1",
   "metadata": {},
   "outputs": [
    {
     "name": "stderr",
     "output_type": "stream",
     "text": [
      "/Users/osamajabr/anaconda3/lib/python3.11/site-packages/sklearn/preprocessing/_encoders.py:972: FutureWarning: `sparse` was renamed to `sparse_output` in version 1.2 and will be removed in 1.4. `sparse_output` is ignored unless you leave `sparse` to its default value.\n",
      "  warnings.warn(\n"
     ]
    },
    {
     "name": "stdout",
     "output_type": "stream",
     "text": [
      "Root Mean Squared Error on Test Set: 0.2930658758771574\n",
      "               Category  Importance\n",
      "1          Job Location     0.41156\n",
      "2             Job Title     0.28440\n",
      "3                Skills     0.26986\n",
      "0  Job Health Insurance     0.03418\n"
     ]
    }
   ],
   "source": [
    "df = pd.merge(df, company_dim, on='company_id', how='left')\n",
    "\n",
    "df = df.dropna(subset=['salary_year_avg', 'skill_id', 'company_id', 'job_title_short', 'job_health_insurance'])\n",
    "\n",
    "df['salary_year_avg'] = np.log(df['salary_year_avg'])\n",
    "\n",
    "features = ['job_title_short', 'job_health_insurance']\n",
    "encoder_other = OneHotEncoder(handle_unknown='ignore', sparse=False)\n",
    "features_encoded = encoder_other.fit_transform(df[features])\n",
    "\n",
    "X = np.hstack((features_encoded, df[['job_location_encoded', 'skills_encoded']].values))\n",
    "\n",
    "y = df['salary_year_avg'].values\n",
    "\n",
    "X_train, X_test, y_train, y_test = train_test_split(X, y, test_size=0.2, random_state=42)\n",
    "\n",
    "scaler = StandardScaler()\n",
    "X_train_scaled = scaler.fit_transform(X_train)\n",
    "X_test_scaled = scaler.transform(X_test)\n",
    "\n",
    "regressor = RandomForestRegressor(random_state=42)\n",
    "\n",
    "regressor.fit(X_train_scaled, y_train)\n",
    "\n",
    "y_pred = regressor.predict(X_test_scaled)\n",
    "\n",
    "rmse = np.sqrt(mean_squared_error(y_test, y_pred))\n",
    "print(f'Root Mean Squared Error on Test Set: {rmse}')\n",
    "\n",
    "feature_names = np.concatenate([encoder_other.get_feature_names_out(), ['job_location_encoded', 'skills_encoded']])\n",
    "importances = regressor.feature_importances_\n",
    "feature_importance_df = pd.DataFrame({'Feature': feature_names, 'Importance': importances})\n",
    "\n",
    "categories = []\n",
    "for feature in feature_names:\n",
    "    if 'job_title_short' in feature:\n",
    "        categories.append('Job Title')\n",
    "    elif 'job_location_encoded' in feature:\n",
    "        categories.append('Job Location')\n",
    "    elif 'skills_encoded' in feature:\n",
    "        categories.append('Skills')\n",
    "    elif 'job_health_insurance' in feature:\n",
    "        categories.append('Job Health Insurance')\n",
    "    else:\n",
    "        categories.append('Other')\n",
    "\n",
    "feature_importance_df['Category'] = categories\n",
    "\n",
    "category_importance = feature_importance_df.groupby('Category')['Importance'].sum().reset_index()\n",
    "category_importance.sort_values('Importance', ascending=False, inplace=True)\n",
    "print(category_importance)"
   ]
  },
  {
   "cell_type": "code",
   "execution_count": 5,
   "id": "f8c76f12",
   "metadata": {
    "scrolled": true
   },
   "outputs": [
    {
     "data": {
      "text/plain": [
       "<Axes: >"
      ]
     },
     "execution_count": 5,
     "metadata": {},
     "output_type": "execute_result"
    },
    {
     "data": {
      "image/png": "[encoded data removed]",
      "text/plain": [
       "<Figure size 640x480 with 1 Axes>"
      ]
     },
     "metadata": {},
     "output_type": "display_data"
    }
   ],
   "source": [
    "df['salary_year_avg'].hist(bins=50)\n"
   ]
  },
  {
   "cell_type": "code",
   "execution_count": 6,
   "id": "c16df65d",
   "metadata": {},
   "outputs": [
    {
     "name": "stdout",
     "output_type": "stream",
     "text": [
      "Predicted Yearly Salary: $193,470.04\n"
     ]
    }
   ],
   "source": [
    "sample_data = {\n",
    "    'job_title_short': ['Senior Data Scientist'],\n",
    "    'job_location': ['Mountain View, CA'],\n",
    "    'skills': ['java, r, sas'],\n",
    "    'job_health_insurance': ['true']\n",
    "}\n",
    "\n",
    "sample_df = pd.DataFrame(sample_data)\n",
    "\n",
    "sample_df['job_health_insurance'] = sample_df['job_health_insurance'].astype(str)\n",
    "\n",
    "sample_df['job_location_encoded'] = encoder_location.transform(sample_df[['job_location']])\n",
    "\n",
    "\n",
    "sample_df['skills_encoded'] = encoder_skills.transform(sample_df[['skills']])\n",
    "\n",
    "features_to_encode = sample_df[['job_title_short', 'job_health_insurance']]\n",
    "encoded_features = encoder_other.transform(features_to_encode)\n",
    "\n",
    "X_sample = np.hstack([encoded_features, sample_df[['job_location_encoded', 'skills_encoded']].values])\n",
    "\n",
    "X_sample_scaled = scaler.transform(X_sample)\n",
    "\n",
    "log_salary_pred = regressor.predict(X_sample_scaled)\n",
    "\n",
    "salary_pred = np.exp(log_salary_pred)\n",
    "\n",
    "print(f'Predicted Yearly Salary: ${salary_pred[0]:,.2f}')"
   ]
  }
 ],
 "metadata": {
  "kernelspec": {
   "display_name": "Python 3 (ipykernel)",
   "language": "python",
   "name": "python3"
  },
  "language_info": {
   "codemirror_mode": {
    "name": "ipython",
    "version": 3
   },
   "file_extension": ".py",
   "mimetype": "text/x-python",
   "name": "python",
   "nbconvert_exporter": "python",
   "pygments_lexer": "ipython3",
   "version": "3.11.4"
  }
 },
 "nbformat": 4,
 "nbformat_minor": 5
}
